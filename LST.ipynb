{
 "cells": [
  {
   "cell_type": "code",
   "execution_count": 1,
   "id": "e09a935e-b7b2-40a2-93cc-03127ac3fc75",
   "metadata": {},
   "outputs": [],
   "source": [
    "import rasterio\n",
    "from rasterio import plot\n",
    "import matplotlib.pyplot as plt\n",
    "import numpy as np\n",
    "import os"
   ]
  },
  {
   "cell_type": "code",
   "execution_count": 2,
   "id": "51194a35-51d2-4806-889f-45cf29db84db",
   "metadata": {},
   "outputs": [],
   "source": [
    "#set working directory\n",
    "os.chdir('E:\\\\landsat1')"
   ]
  },
  {
   "cell_type": "code",
   "execution_count": 4,
   "id": "8627e5bb-8132-4025-9099-8ac42f043ddd",
   "metadata": {},
   "outputs": [],
   "source": [
    "#' At-Sensor Temperature or brightness temperature\n",
    "#'\n",
    "#' This function calculates at-Sensor Temperature or brightness temperature\n",
    "#' @param Landsat_10 Raster* object, Landsat band 10\n",
    "#' @param Landsat_11 Raster* object, Landsat band 11\n",
    "#' @return A list containing brightness temperature corresponding to Landsat band 10 and Landsat band 11\n",
    "\n",
    "#read landsat8 thermal bands\n",
    "Band10=rasterio.open(\"band10.tif\")\n",
    "Band11=rasterio.open(\"band11.tif\")\n",
    "def BT(Band10,Band11):\n",
    "    #convert to array for math operations\n",
    "    band10= Band10.read(1).astype(\"float64\")\n",
    "    band11= Band11.read(1).astype(\"float64\")\n",
    "\n",
    "    l_lambda_10 = 3.3420*10**-4*band10 + 0.1\n",
    "    l_lambda_11 = 3.3420*10**-4*band11 + 0.1\n",
    "\n",
    "    BT_10 = (1321.0789/(np.log(774.8853/l_lambda_10 + 1)))\n",
    "    BT_11 = (1201.1442/(np.log(480.8883/l_lambda_11 + 1)))\n",
    "    return BT_10,BT_11\n",
    "BT_10,BT_11 = BT(Band10,Band11)"
   ]
  },
  {
   "cell_type": "code",
   "execution_count": 5,
   "id": "4c917921-8092-40ad-9e72-03013ce604b1",
   "metadata": {},
   "outputs": [],
   "source": [
    "#NDVI\n",
    "#'\n",
    "#'this function calculates NDVI \n",
    "#' @param Red Raster* object, red band of remote sensing imagery\n",
    "#' @param NIR Raster* object, NIR band of remote sensing imagery\n",
    "\n",
    "#read red and nir bands\n",
    "red= rasterio.open(\"band4.tif\")\n",
    "nir= rasterio.open(\"band5_new.tif\")\n",
    "\n",
    "def NDVI(red, nir):\n",
    "    #convert to array for math operations\n",
    "    band4= red.read(1).astype(\"float64\")\n",
    "    band5= nir.read(1).astype(\"float64\")\n",
    "    #calculate ndvi\n",
    "    ndvi= (band5-band4)/(band5+band4)\n",
    "    return ndvi\n",
    "\n",
    "ndvi=NDVI(red,nir) "
   ]
  },
  {
   "cell_type": "code",
   "execution_count": 7,
   "id": "10811cd9-2287-4d45-8b97-6d0fdc524881",
   "metadata": {},
   "outputs": [],
   "source": [
    "#' Proportion of vegetation or fractional vegetation cover\n",
    "#'\n",
    "#' Calculation of the proportion of vegetation or fractional vegetation cover from NDVI\n",
    "#' @param NDVI Raster* object, NDVI calculated from remote sensing imagery\n",
    "#' @param minNDVI = 0.2 (Ref. Sobrino et al. 2004)\n",
    "#' @param maxNDVI = 0.5 (Ref. Sobrino et al. 2004)\n",
    "\n",
    "def FV(ndvi):\n",
    "    minNDVI = 0.2\n",
    "    maxNDVI = 0.5\n",
    "    FV= ((ndvi - minNDVI)/(maxNDVI - minNDVI))**2\n",
    "    return FV\n",
    "fv=FV(ndvi)"
   ]
  },
  {
   "cell_type": "code",
   "execution_count": 9,
   "id": "39c89581-4758-4609-90e8-d7b79a8e81e6",
   "metadata": {},
   "outputs": [],
   "source": [
    "#' Land Surface Emissivity according to Van de Griend and Owe 1993\n",
    "#'\n",
    "#' This function calculates Land Surface Emissivity according to Van de Griend and Owe 1993\n",
    "#' @param NDVI Raster* object, NDVI calculated from remote sensing imagery\n",
    "\n",
    "def E_VandeGriend(ndvi):\n",
    "    EV = 1.094 + 0.047*np.log(ndvi)\n",
    "    #E_VandeGriend[E_VandeGriend>1] <- 1\n",
    "    return EV\n",
    "EV=E_VandeGriend(ndvi)"
   ]
  },
  {
   "cell_type": "code",
   "execution_count": 10,
   "id": "0f898d40-e445-434b-89fb-4bdac355fad4",
   "metadata": {},
   "outputs": [],
   "source": [
    "#' Atmospheric transmittance calculation\n",
    "#'\n",
    "#' This function calculates Atmospheric transmittance from near-surface air temperature (To, °C) and relative humidity (RH, %) of the date when Landsat passed over the study area\n",
    "#' @param To Near-surface air temperature (°C) of the date when Landsat passed over the study area\n",
    "#' @param RH relative humidity (%) of the date when Landsat passed over the study area\n",
    "#' @param band A string specifying which Landsat 8 thermal band to use. It can be \"band 10\" or\n",
    "#' \"band 11\"\n",
    "#' @return Atmospheric transmittance\n",
    "#' @examples\n",
    "#' tau(To = 26, RH = 42, band = \"band 11\")\n",
    "To= 26\n",
    "To_K= To + 273.15\n",
    "RH=42\n",
    "def TAU(To,To_K,RH,band):\n",
    "    RH_fraction= RH/100\n",
    "    W= 0.0981*10*0.6108**((17.27*(To_K-273.15))/\n",
    "                              (237.3+(To_K-273.15)))*RH_fraction+0.1697\n",
    "    if band==\"Band10\":\n",
    "        tau = -0.0164*W**2-0.04203*W+0.9715\n",
    "    else:\n",
    "        tau= -0.01218*W**2-0.07735*W+0.9603\n",
    "    return tau\n",
    "tau=TAU(To,To_K,RH,\"Band10\")"
   ]
  },
  {
   "cell_type": "code",
   "execution_count": 11,
   "id": "9fd09e61-d092-49a8-995c-523806580608",
   "metadata": {},
   "outputs": [],
   "source": [
    "#' Mean atmospheric temperature\n",
    "#'\n",
    "#' This function calculates mean atmospheric temperature (Ta) using near-surface air\n",
    "#' temperature (To)\n",
    "#' @param To Near-surface air temperature (°C) of the date when Landsat passed over the study area\n",
    "#' @param mod A string specifying which model to use. It can be anyone of \"USA 1976 Standard\" or\n",
    "#' \"Tropical Region\" or \"Mid-latitude Summer Region\" or \"Mid-latitude Winter Region\"\n",
    "#' @return Mean atmospheric temperature (K)\n",
    "#' @examples\n",
    "#' Ta(To = 26, mod = \"Mid-latitude Winter Region\")\n",
    "\n",
    "def MAT (To, mod):\n",
    "    To_K= To + 273.15\n",
    "    if  mod == \"USA 1976 Standard\": \n",
    "        Ta = 25.940 + 0.8805*To_K\n",
    "    elif mod == \"Tropical Region\":\n",
    "        Ta = 17.977 + 0.9172*To_K\n",
    "    elif mod == \"Mid-latitude Summer Region\":\n",
    "        Ta = 16.011 + 0.9262*To_K\n",
    "    else:\n",
    "        Ta = 19.270 + 0.9112*To_K\n",
    "    return Ta\n",
    "Ta=MAT(To, \"Mid-latitude Winter Region\")"
   ]
  },
  {
   "cell_type": "code",
   "execution_count": 17,
   "id": "bd4e261c-d810-43b2-9d96-0336aec3e38c",
   "metadata": {},
   "outputs": [],
   "source": [
    "#Mono window algorithm\n",
    "#'\n",
    "#' This function calculates Land Surface Temperature(LST) using mono window algorithm\n",
    "#' @param BT Raster* object, brightness temperature\n",
    "#' @param tau Atmospheric transmittance\n",
    "#' @param E Raster* object, Land Surface Emissivity calculated according to Van de Griend and Owe 1993 \n",
    "#' @param Ta Mean atmospheric temperature (K) of the date when Landsat passed over the study area\n",
    "#' @return LST\n",
    "#' @examples\n",
    "#' MWA(bt = Brightness Temperature)\n",
    "\n",
    "def LST(bt, tau, EV, Ta):\n",
    "    C= EV*tau\n",
    "    D= (1-tau)*(1+(1-EV)*tau)\n",
    "    LST_mwa = (-67.355351*(1-C-D)+(0.458606*(1-C-D)+C+D)*bt-D*Ta)/C\n",
    "    return LST_mwa\n",
    "LST_mwa=LST(BT_10, tau, EV, Ta)"
   ]
  },
  {
   "cell_type": "code",
   "execution_count": 16,
   "id": "1848d65f-84e0-46b3-92ba-a39f8318109e",
   "metadata": {},
   "outputs": [],
   "source": [
    "LST_mwa_image = rasterio.open('LST_mwa_image.tiff','w',driver='Gtiff',\n",
    "                          width=red.width, \n",
    "                          height = red.height, \n",
    "                          count=1, crs=red.crs, \n",
    "                          transform=red.transform, \n",
    "                          dtype='float64')\n",
    "LST_mwa_image.write(LST_mwa,1)\n",
    "LST_mwa_image2.close()"
   ]
  },
  {
   "cell_type": "code",
   "execution_count": null,
   "id": "78466275-7f85-426b-8e2a-c62bb2a5239e",
   "metadata": {},
   "outputs": [],
   "source": []
  }
 ],
 "metadata": {
  "kernelspec": {
   "display_name": "Python 3 (ipykernel)",
   "language": "python",
   "name": "python3"
  },
  "language_info": {
   "codemirror_mode": {
    "name": "ipython",
    "version": 3
   },
   "file_extension": ".py",
   "mimetype": "text/x-python",
   "name": "python",
   "nbconvert_exporter": "python",
   "pygments_lexer": "ipython3",
   "version": "3.10.2"
  }
 },
 "nbformat": 4,
 "nbformat_minor": 5
}
